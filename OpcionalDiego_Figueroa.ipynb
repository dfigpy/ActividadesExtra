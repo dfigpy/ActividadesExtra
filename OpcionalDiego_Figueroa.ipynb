{
  "nbformat": 4,
  "nbformat_minor": 0,
  "metadata": {
    "colab": {
      "provenance": []
    },
    "kernelspec": {
      "name": "python3",
      "display_name": "Python 3"
    },
    "language_info": {
      "name": "python"
    }
  },
  "cells": [
    {
      "cell_type": "code",
      "execution_count": null,
      "metadata": {
        "id": "091MCS9VbsqH"
      },
      "outputs": [],
      "source": [
        "#ACTIVIDAD OPCIONAL SAMSUNG INNOVATION CAMPUS 2024/2025 20/10/2024\n",
        "#ALUMNO : Diego Alfredo Figueroa Castro\n",
        "id = 1245\n",
        "clave = 345\n",
        "cuenta = 2000\n",
        "opc = 0\n",
        "def ver_edo():\n",
        "    print('\\nSu saldo es de:', cuenta)\n",
        "\n",
        "try:\n",
        "    key = int(input('Ingrese su clave: '))\n",
        "    if key == clave:\n",
        "      while opc != 4:\n",
        "       opc = int(input('''\n",
        "       1. Edo. cuenta\n",
        "       2. deposito\n",
        "       3. retiro\n",
        "       4. Salir\n",
        "       '''))\n",
        "       if opc == 1:\n",
        "         ver_edo()\n",
        "       if opc == 2:\n",
        "        cant = int(input('\\nIngrese monto a depositar: '))\n",
        "        if cant < 0:\n",
        "          print('Monto invalido')\n",
        "        else:\n",
        "         cuenta += cant\n",
        "         ver_edo()\n",
        "       if opc == 3:\n",
        "         cant = int(input('\\nIngrese monto a retirar: '))\n",
        "         if cant > 0 and cant <= cuenta:\n",
        "          cuenta -= cant\n",
        "          print('Usted retiro:', cant, 'Su saldo es de:', cuenta)\n",
        "         else:\n",
        "          if cant < int(0):\n",
        "           print('Monto invalido')\n",
        "          if cant > cuenta:\n",
        "           print('Saldo insuficiente')\n",
        "    else:\n",
        "        print('Clave incorrecta')\n",
        "except:\n",
        "  print('Informacion Invalida')"
      ]
    }
  ]
}